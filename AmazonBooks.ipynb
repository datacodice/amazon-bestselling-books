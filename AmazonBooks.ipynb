{
 "cells": [
  {
   "cell_type": "markdown",
   "id": "710e5e66",
   "metadata": {},
   "source": [
    "## 1. Importing the data"
   ]
  },
  {
   "cell_type": "code",
   "execution_count": 1,
   "id": "3b3f8977",
   "metadata": {},
   "outputs": [],
   "source": [
    "import pandas as pd\n",
    "import numpy as np\n",
    "import matplotlib.pyplot as plt\n",
    "import seaborn as sns"
   ]
  },
  {
   "cell_type": "code",
   "execution_count": 2,
   "id": "579e497c",
   "metadata": {},
   "outputs": [
    {
     "data": {
      "text/html": [
       "<div>\n",
       "<style scoped>\n",
       "    .dataframe tbody tr th:only-of-type {\n",
       "        vertical-align: middle;\n",
       "    }\n",
       "\n",
       "    .dataframe tbody tr th {\n",
       "        vertical-align: top;\n",
       "    }\n",
       "\n",
       "    .dataframe thead th {\n",
       "        text-align: right;\n",
       "    }\n",
       "</style>\n",
       "<table border=\"1\" class=\"dataframe\">\n",
       "  <thead>\n",
       "    <tr style=\"text-align: right;\">\n",
       "      <th></th>\n",
       "      <th>Name</th>\n",
       "      <th>Author</th>\n",
       "      <th>User Rating</th>\n",
       "      <th>Reviews</th>\n",
       "      <th>Price</th>\n",
       "      <th>Year</th>\n",
       "      <th>Genre</th>\n",
       "    </tr>\n",
       "  </thead>\n",
       "  <tbody>\n",
       "    <tr>\n",
       "      <th>0</th>\n",
       "      <td>Act Like a Lady, Think Like a Man: What Men Re...</td>\n",
       "      <td>Steve Harvey</td>\n",
       "      <td>4.6</td>\n",
       "      <td>5013</td>\n",
       "      <td>17</td>\n",
       "      <td>2009</td>\n",
       "      <td>Non Fiction</td>\n",
       "    </tr>\n",
       "    <tr>\n",
       "      <th>1</th>\n",
       "      <td>Arguing with Idiots: How to Stop Small Minds a...</td>\n",
       "      <td>Glenn Beck</td>\n",
       "      <td>4.6</td>\n",
       "      <td>798</td>\n",
       "      <td>5</td>\n",
       "      <td>2009</td>\n",
       "      <td>Non Fiction</td>\n",
       "    </tr>\n",
       "    <tr>\n",
       "      <th>2</th>\n",
       "      <td>Breaking Dawn (The Twilight Saga, Book 4)</td>\n",
       "      <td>Stephenie Meyer</td>\n",
       "      <td>4.6</td>\n",
       "      <td>9769</td>\n",
       "      <td>13</td>\n",
       "      <td>2009</td>\n",
       "      <td>Fiction</td>\n",
       "    </tr>\n",
       "    <tr>\n",
       "      <th>3</th>\n",
       "      <td>Crazy Love: Overwhelmed by a Relentless God</td>\n",
       "      <td>Francis Chan</td>\n",
       "      <td>4.7</td>\n",
       "      <td>1542</td>\n",
       "      <td>14</td>\n",
       "      <td>2009</td>\n",
       "      <td>Non Fiction</td>\n",
       "    </tr>\n",
       "    <tr>\n",
       "      <th>4</th>\n",
       "      <td>Dead And Gone: A Sookie Stackhouse Novel (Sook...</td>\n",
       "      <td>Charlaine Harris</td>\n",
       "      <td>4.6</td>\n",
       "      <td>1541</td>\n",
       "      <td>4</td>\n",
       "      <td>2009</td>\n",
       "      <td>Fiction</td>\n",
       "    </tr>\n",
       "    <tr>\n",
       "      <th>...</th>\n",
       "      <td>...</td>\n",
       "      <td>...</td>\n",
       "      <td>...</td>\n",
       "      <td>...</td>\n",
       "      <td>...</td>\n",
       "      <td>...</td>\n",
       "      <td>...</td>\n",
       "    </tr>\n",
       "    <tr>\n",
       "      <th>695</th>\n",
       "      <td>The Wonderful Things You Will Be</td>\n",
       "      <td>Emily Winfield Martin</td>\n",
       "      <td>4.9</td>\n",
       "      <td>20920</td>\n",
       "      <td>9</td>\n",
       "      <td>2022</td>\n",
       "      <td>Fiction</td>\n",
       "    </tr>\n",
       "    <tr>\n",
       "      <th>696</th>\n",
       "      <td>Ugly Love: A Novel</td>\n",
       "      <td>Colleen Hoover</td>\n",
       "      <td>4.7</td>\n",
       "      <td>33929</td>\n",
       "      <td>10</td>\n",
       "      <td>2022</td>\n",
       "      <td>Fiction</td>\n",
       "    </tr>\n",
       "    <tr>\n",
       "      <th>697</th>\n",
       "      <td>Verity</td>\n",
       "      <td>Colleen Hoover</td>\n",
       "      <td>4.6</td>\n",
       "      <td>71826</td>\n",
       "      <td>11</td>\n",
       "      <td>2022</td>\n",
       "      <td>Fiction</td>\n",
       "    </tr>\n",
       "    <tr>\n",
       "      <th>698</th>\n",
       "      <td>What to Expect When You're Expecting</td>\n",
       "      <td>Heidi Murkoff</td>\n",
       "      <td>4.8</td>\n",
       "      <td>27052</td>\n",
       "      <td>13</td>\n",
       "      <td>2022</td>\n",
       "      <td>Non Fiction</td>\n",
       "    </tr>\n",
       "    <tr>\n",
       "      <th>699</th>\n",
       "      <td>Where the Crawdads Sing</td>\n",
       "      <td>Delia Owens</td>\n",
       "      <td>4.8</td>\n",
       "      <td>208917</td>\n",
       "      <td>10</td>\n",
       "      <td>2022</td>\n",
       "      <td>Fiction</td>\n",
       "    </tr>\n",
       "  </tbody>\n",
       "</table>\n",
       "<p>700 rows × 7 columns</p>\n",
       "</div>"
      ],
      "text/plain": [
       "                                                  Name                 Author  \\\n",
       "0    Act Like a Lady, Think Like a Man: What Men Re...           Steve Harvey   \n",
       "1    Arguing with Idiots: How to Stop Small Minds a...             Glenn Beck   \n",
       "2            Breaking Dawn (The Twilight Saga, Book 4)        Stephenie Meyer   \n",
       "3          Crazy Love: Overwhelmed by a Relentless God           Francis Chan   \n",
       "4    Dead And Gone: A Sookie Stackhouse Novel (Sook...       Charlaine Harris   \n",
       "..                                                 ...                    ...   \n",
       "695                   The Wonderful Things You Will Be  Emily Winfield Martin   \n",
       "696                                 Ugly Love: A Novel         Colleen Hoover   \n",
       "697                                             Verity         Colleen Hoover   \n",
       "698               What to Expect When You're Expecting          Heidi Murkoff   \n",
       "699                            Where the Crawdads Sing            Delia Owens   \n",
       "\n",
       "     User Rating  Reviews  Price  Year        Genre  \n",
       "0            4.6     5013     17  2009  Non Fiction  \n",
       "1            4.6      798      5  2009  Non Fiction  \n",
       "2            4.6     9769     13  2009      Fiction  \n",
       "3            4.7     1542     14  2009  Non Fiction  \n",
       "4            4.6     1541      4  2009      Fiction  \n",
       "..           ...      ...    ...   ...          ...  \n",
       "695          4.9    20920      9  2022      Fiction  \n",
       "696          4.7    33929     10  2022      Fiction  \n",
       "697          4.6    71826     11  2022      Fiction  \n",
       "698          4.8    27052     13  2022  Non Fiction  \n",
       "699          4.8   208917     10  2022      Fiction  \n",
       "\n",
       "[700 rows x 7 columns]"
      ]
     },
     "execution_count": 2,
     "metadata": {},
     "output_type": "execute_result"
    }
   ],
   "source": [
    "# loading the dataset into a Pandas dataframe\n",
    "df = pd.read_excel('amazon-bestsellers-books-2009-2022.xlsx')\n",
    "df"
   ]
  },
  {
   "cell_type": "markdown",
   "id": "1d860c60",
   "metadata": {},
   "source": [
    "## 2. Preparing and cleaning\n",
    "Here I'll explore the dataset and clean it before doing the actual analysis."
   ]
  },
  {
   "cell_type": "code",
   "execution_count": 3,
   "id": "17b138bc",
   "metadata": {},
   "outputs": [
    {
     "name": "stdout",
     "output_type": "stream",
     "text": [
      "<class 'pandas.core.frame.DataFrame'>\n",
      "RangeIndex: 700 entries, 0 to 699\n",
      "Data columns (total 7 columns):\n",
      " #   Column       Non-Null Count  Dtype  \n",
      "---  ------       --------------  -----  \n",
      " 0   Name         700 non-null    object \n",
      " 1   Author       700 non-null    object \n",
      " 2   User Rating  700 non-null    float64\n",
      " 3   Reviews      700 non-null    int64  \n",
      " 4   Price        700 non-null    int64  \n",
      " 5   Year         700 non-null    int64  \n",
      " 6   Genre        700 non-null    object \n",
      "dtypes: float64(1), int64(3), object(3)\n",
      "memory usage: 38.4+ KB\n"
     ]
    }
   ],
   "source": [
    "df.info()"
   ]
  },
  {
   "cell_type": "markdown",
   "id": "055ca470",
   "metadata": {},
   "source": [
    "There are no empty values and 700 entries as expected."
   ]
  },
  {
   "cell_type": "markdown",
   "id": "c43c342f",
   "metadata": {},
   "source": [
    "### Double-checking for null values"
   ]
  },
  {
   "cell_type": "code",
   "execution_count": 4,
   "id": "041f60c9",
   "metadata": {},
   "outputs": [
    {
     "data": {
      "text/plain": [
       "Name           0\n",
       "Author         0\n",
       "User Rating    0\n",
       "Reviews        0\n",
       "Price          0\n",
       "Year           0\n",
       "Genre          0\n",
       "dtype: int64"
      ]
     },
     "execution_count": 4,
     "metadata": {},
     "output_type": "execute_result"
    }
   ],
   "source": [
    "df.isnull().sum()"
   ]
  },
  {
   "cell_type": "markdown",
   "id": "10d4286c",
   "metadata": {},
   "source": [
    "### Distinct books"
   ]
  },
  {
   "cell_type": "code",
   "execution_count": 5,
   "id": "a65c191f",
   "metadata": {},
   "outputs": [
    {
     "data": {
      "text/plain": [
       "441"
      ]
     },
     "execution_count": 5,
     "metadata": {},
     "output_type": "execute_result"
    }
   ],
   "source": [
    "# let's count the unique book titles\n",
    "len(df.Name.unique())"
   ]
  },
  {
   "cell_type": "markdown",
   "id": "bba55bb2",
   "metadata": {},
   "source": [
    "There are 441 unique books but 700 books in the dataset. This is because some titles made it to the bestselling ranking several years."
   ]
  },
  {
   "cell_type": "markdown",
   "id": "9b62d9e8",
   "metadata": {},
   "source": [
    "### Renaming the columns"
   ]
  },
  {
   "cell_type": "markdown",
   "id": "50d5b12c",
   "metadata": {},
   "source": [
    "To avoid spaces between the columns names:"
   ]
  },
  {
   "cell_type": "code",
   "execution_count": 6,
   "id": "d58225e6",
   "metadata": {},
   "outputs": [
    {
     "data": {
      "text/html": [
       "<div>\n",
       "<style scoped>\n",
       "    .dataframe tbody tr th:only-of-type {\n",
       "        vertical-align: middle;\n",
       "    }\n",
       "\n",
       "    .dataframe tbody tr th {\n",
       "        vertical-align: top;\n",
       "    }\n",
       "\n",
       "    .dataframe thead th {\n",
       "        text-align: right;\n",
       "    }\n",
       "</style>\n",
       "<table border=\"1\" class=\"dataframe\">\n",
       "  <thead>\n",
       "    <tr style=\"text-align: right;\">\n",
       "      <th></th>\n",
       "      <th>title</th>\n",
       "      <th>author</th>\n",
       "      <th>user_rating</th>\n",
       "      <th>reviews</th>\n",
       "      <th>price</th>\n",
       "      <th>year</th>\n",
       "      <th>genre</th>\n",
       "    </tr>\n",
       "  </thead>\n",
       "  <tbody>\n",
       "    <tr>\n",
       "      <th>0</th>\n",
       "      <td>Act Like a Lady, Think Like a Man: What Men Re...</td>\n",
       "      <td>Steve Harvey</td>\n",
       "      <td>4.6</td>\n",
       "      <td>5013</td>\n",
       "      <td>17</td>\n",
       "      <td>2009</td>\n",
       "      <td>Non Fiction</td>\n",
       "    </tr>\n",
       "    <tr>\n",
       "      <th>1</th>\n",
       "      <td>Arguing with Idiots: How to Stop Small Minds a...</td>\n",
       "      <td>Glenn Beck</td>\n",
       "      <td>4.6</td>\n",
       "      <td>798</td>\n",
       "      <td>5</td>\n",
       "      <td>2009</td>\n",
       "      <td>Non Fiction</td>\n",
       "    </tr>\n",
       "    <tr>\n",
       "      <th>2</th>\n",
       "      <td>Breaking Dawn (The Twilight Saga, Book 4)</td>\n",
       "      <td>Stephenie Meyer</td>\n",
       "      <td>4.6</td>\n",
       "      <td>9769</td>\n",
       "      <td>13</td>\n",
       "      <td>2009</td>\n",
       "      <td>Fiction</td>\n",
       "    </tr>\n",
       "    <tr>\n",
       "      <th>3</th>\n",
       "      <td>Crazy Love: Overwhelmed by a Relentless God</td>\n",
       "      <td>Francis Chan</td>\n",
       "      <td>4.7</td>\n",
       "      <td>1542</td>\n",
       "      <td>14</td>\n",
       "      <td>2009</td>\n",
       "      <td>Non Fiction</td>\n",
       "    </tr>\n",
       "    <tr>\n",
       "      <th>4</th>\n",
       "      <td>Dead And Gone: A Sookie Stackhouse Novel (Sook...</td>\n",
       "      <td>Charlaine Harris</td>\n",
       "      <td>4.6</td>\n",
       "      <td>1541</td>\n",
       "      <td>4</td>\n",
       "      <td>2009</td>\n",
       "      <td>Fiction</td>\n",
       "    </tr>\n",
       "  </tbody>\n",
       "</table>\n",
       "</div>"
      ],
      "text/plain": [
       "                                               title            author  \\\n",
       "0  Act Like a Lady, Think Like a Man: What Men Re...      Steve Harvey   \n",
       "1  Arguing with Idiots: How to Stop Small Minds a...        Glenn Beck   \n",
       "2          Breaking Dawn (The Twilight Saga, Book 4)   Stephenie Meyer   \n",
       "3        Crazy Love: Overwhelmed by a Relentless God      Francis Chan   \n",
       "4  Dead And Gone: A Sookie Stackhouse Novel (Sook...  Charlaine Harris   \n",
       "\n",
       "   user_rating  reviews  price  year        genre  \n",
       "0          4.6     5013     17  2009  Non Fiction  \n",
       "1          4.6      798      5  2009  Non Fiction  \n",
       "2          4.6     9769     13  2009      Fiction  \n",
       "3          4.7     1542     14  2009  Non Fiction  \n",
       "4          4.6     1541      4  2009      Fiction  "
      ]
     },
     "execution_count": 6,
     "metadata": {},
     "output_type": "execute_result"
    }
   ],
   "source": [
    "df.columns = ['title', 'author', 'user_rating', 'reviews', 'price', 'year', 'genre']\n",
    "df.head()"
   ]
  },
  {
   "cell_type": "markdown",
   "id": "5286359f",
   "metadata": {},
   "source": [
    "### Descriptive statistics"
   ]
  },
  {
   "cell_type": "code",
   "execution_count": 7,
   "id": "d1812d21",
   "metadata": {},
   "outputs": [
    {
     "data": {
      "text/html": [
       "<div>\n",
       "<style scoped>\n",
       "    .dataframe tbody tr th:only-of-type {\n",
       "        vertical-align: middle;\n",
       "    }\n",
       "\n",
       "    .dataframe tbody tr th {\n",
       "        vertical-align: top;\n",
       "    }\n",
       "\n",
       "    .dataframe thead th {\n",
       "        text-align: right;\n",
       "    }\n",
       "</style>\n",
       "<table border=\"1\" class=\"dataframe\">\n",
       "  <thead>\n",
       "    <tr style=\"text-align: right;\">\n",
       "      <th></th>\n",
       "      <th>user_rating</th>\n",
       "      <th>reviews</th>\n",
       "      <th>price</th>\n",
       "      <th>year</th>\n",
       "    </tr>\n",
       "  </thead>\n",
       "  <tbody>\n",
       "    <tr>\n",
       "      <th>count</th>\n",
       "      <td>700.000000</td>\n",
       "      <td>700.000000</td>\n",
       "      <td>700.000000</td>\n",
       "      <td>700.000000</td>\n",
       "    </tr>\n",
       "    <tr>\n",
       "      <th>mean</th>\n",
       "      <td>4.639857</td>\n",
       "      <td>19255.195714</td>\n",
       "      <td>12.700000</td>\n",
       "      <td>2015.500000</td>\n",
       "    </tr>\n",
       "    <tr>\n",
       "      <th>std</th>\n",
       "      <td>0.218586</td>\n",
       "      <td>23613.443875</td>\n",
       "      <td>9.915162</td>\n",
       "      <td>4.034011</td>\n",
       "    </tr>\n",
       "    <tr>\n",
       "      <th>min</th>\n",
       "      <td>3.300000</td>\n",
       "      <td>37.000000</td>\n",
       "      <td>0.000000</td>\n",
       "      <td>2009.000000</td>\n",
       "    </tr>\n",
       "    <tr>\n",
       "      <th>25%</th>\n",
       "      <td>4.500000</td>\n",
       "      <td>4987.250000</td>\n",
       "      <td>7.000000</td>\n",
       "      <td>2012.000000</td>\n",
       "    </tr>\n",
       "    <tr>\n",
       "      <th>50%</th>\n",
       "      <td>4.700000</td>\n",
       "      <td>10284.000000</td>\n",
       "      <td>11.000000</td>\n",
       "      <td>2015.500000</td>\n",
       "    </tr>\n",
       "    <tr>\n",
       "      <th>75%</th>\n",
       "      <td>4.800000</td>\n",
       "      <td>23358.000000</td>\n",
       "      <td>15.000000</td>\n",
       "      <td>2019.000000</td>\n",
       "    </tr>\n",
       "    <tr>\n",
       "      <th>max</th>\n",
       "      <td>4.900000</td>\n",
       "      <td>208917.000000</td>\n",
       "      <td>105.000000</td>\n",
       "      <td>2022.000000</td>\n",
       "    </tr>\n",
       "  </tbody>\n",
       "</table>\n",
       "</div>"
      ],
      "text/plain": [
       "       user_rating        reviews       price         year\n",
       "count   700.000000     700.000000  700.000000   700.000000\n",
       "mean      4.639857   19255.195714   12.700000  2015.500000\n",
       "std       0.218586   23613.443875    9.915162     4.034011\n",
       "min       3.300000      37.000000    0.000000  2009.000000\n",
       "25%       4.500000    4987.250000    7.000000  2012.000000\n",
       "50%       4.700000   10284.000000   11.000000  2015.500000\n",
       "75%       4.800000   23358.000000   15.000000  2019.000000\n",
       "max       4.900000  208917.000000  105.000000  2022.000000"
      ]
     },
     "execution_count": 7,
     "metadata": {},
     "output_type": "execute_result"
    }
   ],
   "source": [
    "df.describe()"
   ]
  },
  {
   "cell_type": "markdown",
   "id": "0c0e0836",
   "metadata": {},
   "source": [
    "We already know more facts about the data from this statistics, such as the average user rating (4.6 stars); the number of reviews (min = 27, max = 208,917); and so on."
   ]
  },
  {
   "cell_type": "markdown",
   "id": "a69e6e4c",
   "metadata": {},
   "source": [
    "### Estimated revenue\n",
    "Revenue is not included in the original dataset. A way of estimating the sales a book is making on Amazon is by checking its Best Sellers Rank. This figure allows us to estimate the number of daily/monthly sales, but still, it is only an estimate of the sales at a given hour, and not an estimate of the sales over time.\n",
    "Therefore, I'm just going to calculate a new column in the dataframe to estimate revenue = reviews * price. Just for the sake of comparison between books (the actual revenue may certainly be much higher than this)."
   ]
  },
  {
   "cell_type": "code",
   "execution_count": 8,
   "id": "951e48c9",
   "metadata": {},
   "outputs": [
    {
     "name": "stdout",
     "output_type": "stream",
     "text": [
      "<class 'pandas.core.frame.DataFrame'>\n",
      "RangeIndex: 700 entries, 0 to 699\n",
      "Data columns (total 8 columns):\n",
      " #   Column               Non-Null Count  Dtype  \n",
      "---  ------               --------------  -----  \n",
      " 0   title                700 non-null    object \n",
      " 1   author               700 non-null    object \n",
      " 2   user_rating          700 non-null    float64\n",
      " 3   reviews              700 non-null    int64  \n",
      " 4   price                700 non-null    int64  \n",
      " 5   year                 700 non-null    int64  \n",
      " 6   genre                700 non-null    object \n",
      " 7   revenue_guesstimate  700 non-null    int64  \n",
      "dtypes: float64(1), int64(4), object(3)\n",
      "memory usage: 43.9+ KB\n"
     ]
    }
   ],
   "source": [
    "df ['revenue_guesstimate'] = df.reviews * df.price\n",
    "df.info()"
   ]
  },
  {
   "cell_type": "markdown",
   "id": "383aee0c",
   "metadata": {},
   "source": [
    "## 3. EDA"
   ]
  },
  {
   "cell_type": "markdown",
   "id": "ed469797",
   "metadata": {},
   "source": [
    "### Fiction VS Non fiction"
   ]
  },
  {
   "cell_type": "code",
   "execution_count": 9,
   "id": "de18d596",
   "metadata": {},
   "outputs": [
    {
     "name": "stdout",
     "output_type": "stream",
     "text": [
      "312\n"
     ]
    }
   ],
   "source": [
    "# Fiction\n",
    "no_fiction = len(df[df.genre == 'Fiction'])\n",
    "print(no_fiction)"
   ]
  },
  {
   "cell_type": "code",
   "execution_count": 10,
   "id": "537788c4",
   "metadata": {},
   "outputs": [
    {
     "name": "stdout",
     "output_type": "stream",
     "text": [
      "388\n"
     ]
    }
   ],
   "source": [
    "# Non Fiction\n",
    "no_non_fiction = len(df[df.genre == 'Non Fiction'])\n",
    "print(no_non_fiction)"
   ]
  },
  {
   "cell_type": "code",
   "execution_count": 11,
   "id": "209e5465",
   "metadata": {},
   "outputs": [
    {
     "data": {
      "text/plain": [
       "Non Fiction    388\n",
       "Fiction        312\n",
       "Name: genre, dtype: int64"
      ]
     },
     "execution_count": 11,
     "metadata": {},
     "output_type": "execute_result"
    }
   ],
   "source": [
    "dist_genre = df.genre.value_counts()\n",
    "dist_genre"
   ]
  },
  {
   "cell_type": "code",
   "execution_count": 12,
   "id": "fa9ccdbb",
   "metadata": {},
   "outputs": [
    {
     "data": {
      "image/png": "[encoded data removed]",
      "text/plain": [
       "<Figure size 640x480 with 1 Axes>"
      ]
     },
     "metadata": {},
     "output_type": "display_data"
    }
   ],
   "source": [
    "plt.pie([no_fiction, no_non_fiction], labels=['Fiction', 'Non Fiction'], autopct='%.0f%%');\n"
   ]
  },
  {
   "cell_type": "markdown",
   "id": "6c58d847",
   "metadata": {},
   "source": [
    "### Relation between variables\n",
    "Let's see whether there's a correlation between the data"
   ]
  },
  {
   "cell_type": "code",
   "execution_count": 13,
   "id": "020c7c45",
   "metadata": {},
   "outputs": [
    {
     "name": "stdout",
     "output_type": "stream",
     "text": [
      "                     user_rating   reviews     price      year  \\\n",
      "user_rating             1.000000  0.080423 -0.157253  0.286601   \n",
      "reviews                 0.080423  1.000000 -0.114554  0.494279   \n",
      "price                  -0.157253 -0.114554  1.000000 -0.155266   \n",
      "year                    0.286601  0.494279 -0.155266  1.000000   \n",
      "revenue_guesstimate    -0.019308  0.880180  0.203550  0.377984   \n",
      "\n",
      "                     revenue_guesstimate  \n",
      "user_rating                    -0.019308  \n",
      "reviews                         0.880180  \n",
      "price                           0.203550  \n",
      "year                            0.377984  \n",
      "revenue_guesstimate             1.000000  \n"
     ]
    }
   ],
   "source": [
    " print(df.corr())"
   ]
  },
  {
   "cell_type": "markdown",
   "id": "83f3219e",
   "metadata": {},
   "source": [
    "#### Let's create a plot for easy visualization of the correlation:"
   ]
  },
  {
   "cell_type": "code",
   "execution_count": 14,
   "id": "8eb1ecfa",
   "metadata": {},
   "outputs": [
    {
     "data": {
      "image/png": "[encoded data removed]",
      "text/plain": [
       "<Figure size 640x480 with 2 Axes>"
      ]
     },
     "metadata": {},
     "output_type": "display_data"
    }
   ],
   "source": [
    "matrix = df.corr().round()\n",
    "sns.heatmap(matrix, annot=True, vmax=1, vmin=-1, center=0, cmap='vlag')\n",
    "plt.show()"
   ]
  },
  {
   "cell_type": "markdown",
   "id": "2f47d3c4",
   "metadata": {},
   "source": [
    "The only strong correlation (0.88) appears to be between Reviews and Sales: the more sales, the more reviews a book gets. "
   ]
  },
  {
   "cell_type": "markdown",
   "id": "1f1b1eb4",
   "metadata": {},
   "source": [
    "###  Number of years in which the authors were bestsellers"
   ]
  },
  {
   "cell_type": "code",
   "execution_count": 15,
   "id": "cedafaa1",
   "metadata": {},
   "outputs": [
    {
     "data": {
      "text/plain": [
       "Jeff Kinney                           14\n",
       "Gary Chapman                          14\n",
       "Suzanne Collins                       12\n",
       "Rick Riordan                          11\n",
       "American Psychological Association    11\n",
       "Dr. Seuss                             10\n",
       "Eric Carle                            10\n",
       "Dav Pilkey                             9\n",
       "Don Miguel Ruiz                        9\n",
       "Gallup                                 9\n",
       "Stephenie Meyer                        8\n",
       "Rob Elliott                            8\n",
       "Bill O'Reilly                          7\n",
       "Dale Carnegie                          7\n",
       "Stephen R. Covey                       7\n",
       "Colleen Hoover                         6\n",
       "J.K. Rowling                           6\n",
       "Sarah Young                            6\n",
       "Emily Winfield Martin                  6\n",
       "Bill Martin Jr.                        6\n",
       "Name: author, dtype: int64"
      ]
     },
     "execution_count": 15,
     "metadata": {},
     "output_type": "execute_result"
    }
   ],
   "source": [
    "dist_authors = df.author.value_counts()\n",
    "dist_authors.head(20)"
   ]
  },
  {
   "cell_type": "markdown",
   "id": "1f269930",
   "metadata": {},
   "source": [
    "###  Number of years in which the books were bestsellers"
   ]
  },
  {
   "cell_type": "code",
   "execution_count": 16,
   "id": "a33c473c",
   "metadata": {},
   "outputs": [
    {
     "data": {
      "text/plain": [
       "Publication Manual of the American Psychological Association, 6th Edition                 10\n",
       "The Very Hungry Caterpillar                                                               10\n",
       "StrengthsFinder 2.0                                                                        9\n",
       "The Four Agreements: A Practical Guide to Personal Freedom (A Toltec Wisdom Book)          9\n",
       "Oh, the Places You'll Go!                                                                  8\n",
       "The 5 Love Languages: The Secret to Love that Lasts                                        8\n",
       "The 7 Habits of Highly Effective People: Powerful Lessons in Personal Change               7\n",
       "How to Win Friends & Influence People                                                      7\n",
       "The Wonderful Things You Will Be                                                           6\n",
       "Jesus Calling: Enjoying Peace in His Presence (with Scripture References)                  6\n",
       "Giraffes Can't Dance                                                                       6\n",
       "The Official SAT Study Guide                                                               5\n",
       "The 5 Love Languages: The Secret to Love That Lasts                                        5\n",
       "The Subtle Art of Not Giving a F*ck: A Counterintuitive Approach to Living a Good Life     5\n",
       "Unbroken: A World War II Story of Survival, Resilience, and Redemption                     5\n",
       "The Five Dysfunctions of a Team: A Leadership Fable                                        5\n",
       "If Animals Kissed Good Night                                                               5\n",
       "First 100 Words                                                                            5\n",
       "Laugh-Out-Loud Jokes for Kids                                                              5\n",
       "To Kill a Mockingbird                                                                      5\n",
       "Name: title, dtype: int64"
      ]
     },
     "execution_count": 16,
     "metadata": {},
     "output_type": "execute_result"
    }
   ],
   "source": [
    "dist_titles = df.title.value_counts()\n",
    "dist_titles.head(20)"
   ]
  },
  {
   "cell_type": "markdown",
   "id": "60c6369d",
   "metadata": {},
   "source": [
    "### The bestsellers that generate the most revenue\n",
    "Again, this is an estimate and, more than likely, way below the actual revenue each author made."
   ]
  },
  {
   "cell_type": "code",
   "execution_count": 17,
   "id": "c302dfaf",
   "metadata": {},
   "outputs": [
    {
     "data": {
      "text/plain": [
       "title\n",
       "Where the Crawdads Sing                                                                                 2506980\n",
       "Becoming                                                                                                2494107\n",
       "The Silent Patient                                                                                      2050880\n",
       "A Promised Land                                                                                         1937744\n",
       "The Midnight Library: A Novel                                                                           1876082\n",
       "The Girl on the Train                                                                                   1430028\n",
       "The Alchemist                                                                                           1396161\n",
       "The Four Winds: A Novel                                                                                 1355340\n",
       "Midnight Sun                                                                                            1110676\n",
       "The Last Thing He Told Me: A Novel                                                                      1090642\n",
       "The Vanishing Half: A Novel                                                                             1085370\n",
       "Too Much and Never Enough: How My Family Created the World's Most Dangerous Man                         1005340\n",
       "The Boy, the Mole, the Fox and the Horse                                                                 937490\n",
       "American Dirt (Oprah's Book Club): A Novel                                                               935130\n",
       "Rich Dad Poor Dad: What the Rich Teach Their Kids About Money That the Poor and Middle Class Do Not!     924014\n",
       "Name: revenue_guesstimate, dtype: int64"
      ]
     },
     "execution_count": 17,
     "metadata": {},
     "output_type": "execute_result"
    }
   ],
   "source": [
    "revenue_df = df.groupby('title')['revenue_guesstimate'].max()\n",
    "revenue_df = revenue_df.sort_values(ascending = False).head(15)\n",
    "revenue_df"
   ]
  },
  {
   "cell_type": "code",
   "execution_count": 18,
   "id": "af3628dd",
   "metadata": {},
   "outputs": [
    {
     "data": {
      "text/plain": [
       "Text(0.5, 1.0, 'Revenue by book')"
      ]
     },
     "execution_count": 18,
     "metadata": {},
     "output_type": "execute_result"
    },
    {
     "data": {
      "image/png": "[encoded data removed]",
      "text/plain": [
       "<Figure size 640x480 with 1 Axes>"
      ]
     },
     "metadata": {},
     "output_type": "display_data"
    }
   ],
   "source": [
    "sns.barplot(x = revenue_df, y = revenue_df.index)\n",
    "plt.xlabel('Revenue')\n",
    "plt.ylabel(' Books')\n",
    "plt.title(('Revenue by book'))\n"
   ]
  },
  {
   "cell_type": "markdown",
   "id": "580dc32c",
   "metadata": {},
   "source": [
    "### Sales trend over time"
   ]
  },
  {
   "cell_type": "code",
   "execution_count": 19,
   "id": "606375c8",
   "metadata": {},
   "outputs": [
    {
     "data": {
      "image/png": "[encoded data removed]",
      "text/plain": [
       "<Figure size 640x480 with 1 Axes>"
      ]
     },
     "metadata": {},
     "output_type": "display_data"
    },
    {
     "data": {
      "text/plain": [
       "<Figure size 1500x1500 with 0 Axes>"
      ]
     },
     "metadata": {},
     "output_type": "display_data"
    }
   ],
   "source": [
    "sales_trend = df.groupby('year')['revenue_guesstimate'].sum()\n",
    "\n",
    "sns.lineplot(data=sales_trend)\n",
    "plt.xlabel('Year')\n",
    "plt.ylabel('Estimate revenue')\n",
    "plt.title('Sales over years')\n",
    "plt.figure(figsize=(15,15));"
   ]
  }
 ],
 "metadata": {
  "kernelspec": {
   "display_name": "Python 3 (ipykernel)",
   "language": "python",
   "name": "python3"
  },
  "language_info": {
   "codemirror_mode": {
    "name": "ipython",
    "version": 3
   },
   "file_extension": ".py",
   "mimetype": "text/x-python",
   "name": "python",
   "nbconvert_exporter": "python",
   "pygments_lexer": "ipython3",
   "version": "3.9.13"
  }
 },
 "nbformat": 4,
 "nbformat_minor": 5
}
